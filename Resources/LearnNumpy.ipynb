{
 "cells": [
  {
   "cell_type": "code",
   "execution_count": 2,
   "id": "db269ae9-7736-4718-a323-566a2cb6ec1a",
   "metadata": {},
   "outputs": [],
   "source": [
    "import numpy as np"
   ]
  },
  {
   "cell_type": "code",
   "execution_count": 3,
   "id": "54462173-e5f2-4585-ab34-6596372bdd00",
   "metadata": {},
   "outputs": [
    {
     "data": {
      "text/plain": [
       "'2.2.4'"
      ]
     },
     "execution_count": 3,
     "metadata": {},
     "output_type": "execute_result"
    }
   ],
   "source": [
    "np.__version__"
   ]
  },
  {
   "cell_type": "markdown",
   "id": "7695649c-4b3e-40ad-8224-7a02d1800367",
   "metadata": {},
   "source": [
    "## Create & Read\n",
    "\n",
    "1D Array"
   ]
  },
  {
   "cell_type": "code",
   "execution_count": 4,
   "id": "7472f5fe-eed3-4033-bbc8-47148536c205",
   "metadata": {},
   "outputs": [
    {
     "data": {
      "text/plain": [
       "array([1, 2, 3, 4, 5, 6])"
      ]
     },
     "execution_count": 4,
     "metadata": {},
     "output_type": "execute_result"
    }
   ],
   "source": [
    "arr1 = np.array([1, 2, 3, 4, 5, 6])\n",
    "arr1"
   ]
  },
  {
   "cell_type": "code",
   "execution_count": 5,
   "id": "b561bda7-2eef-4875-b78b-f163126bbabb",
   "metadata": {},
   "outputs": [
    {
     "data": {
      "text/plain": [
       "numpy.ndarray"
      ]
     },
     "execution_count": 5,
     "metadata": {},
     "output_type": "execute_result"
    }
   ],
   "source": [
    "type(arr1)"
   ]
  },
  {
   "cell_type": "code",
   "execution_count": 6,
   "id": "f7006ea1-b356-4c39-998a-8397bfe2a0be",
   "metadata": {},
   "outputs": [
    {
     "data": {
      "text/plain": [
       "(6,)"
      ]
     },
     "execution_count": 6,
     "metadata": {},
     "output_type": "execute_result"
    }
   ],
   "source": [
    "arr1.shape"
   ]
  },
  {
   "cell_type": "code",
   "execution_count": 7,
   "id": "1ad6bcc5-c85a-4fe0-8ee6-8ac3e71ed30e",
   "metadata": {},
   "outputs": [
    {
     "data": {
      "text/plain": [
       "dtype('int64')"
      ]
     },
     "execution_count": 7,
     "metadata": {},
     "output_type": "execute_result"
    }
   ],
   "source": [
    "arr1.dtype"
   ]
  },
  {
   "cell_type": "code",
   "execution_count": 8,
   "id": "df8a1c1e-3532-42fa-b764-f934f865f93f",
   "metadata": {},
   "outputs": [
    {
     "data": {
      "text/plain": [
       "1"
      ]
     },
     "execution_count": 8,
     "metadata": {},
     "output_type": "execute_result"
    }
   ],
   "source": [
    "arr1.ndim"
   ]
  },
  {
   "cell_type": "code",
   "execution_count": 9,
   "id": "b192bcbf-0f64-4493-ae47-b6c055532e21",
   "metadata": {},
   "outputs": [
    {
     "data": {
      "text/plain": [
       "6"
      ]
     },
     "execution_count": 9,
     "metadata": {},
     "output_type": "execute_result"
    }
   ],
   "source": [
    "arr1.size"
   ]
  },
  {
   "cell_type": "markdown",
   "id": "58218e16-9fff-431e-98b2-49c892f81184",
   "metadata": {},
   "source": [
    "2D Array"
   ]
  },
  {
   "cell_type": "code",
   "execution_count": 10,
   "id": "acfad67c-4a1b-479e-860d-daa5bf9020d4",
   "metadata": {},
   "outputs": [
    {
     "data": {
      "text/plain": [
       "array([[1, 4, 5],\n",
       "       [6, 7, 4]])"
      ]
     },
     "execution_count": 10,
     "metadata": {},
     "output_type": "execute_result"
    }
   ],
   "source": [
    "arr2 = np.array([[1, 4, 5], [6, 7, 4]])\n",
    "arr2"
   ]
  },
  {
   "cell_type": "code",
   "execution_count": 11,
   "id": "2512ddbd-9c07-42df-85c0-0ba72c78dfb3",
   "metadata": {},
   "outputs": [
    {
     "data": {
      "text/plain": [
       "2"
      ]
     },
     "execution_count": 11,
     "metadata": {},
     "output_type": "execute_result"
    }
   ],
   "source": [
    "arr2.ndim"
   ]
  },
  {
   "cell_type": "code",
   "execution_count": 12,
   "id": "76d695ec-895e-4ade-b24e-1a2a7d1ce9a1",
   "metadata": {},
   "outputs": [
    {
     "ename": "SyntaxError",
     "evalue": "invalid syntax (1022218778.py, line 1)",
     "output_type": "error",
     "traceback": [
      "\u001b[1;36m  Cell \u001b[1;32mIn[12], line 1\u001b[1;36m\u001b[0m\n\u001b[1;33m    arr2. # (row, col)\u001b[0m\n\u001b[1;37m          ^\u001b[0m\n\u001b[1;31mSyntaxError\u001b[0m\u001b[1;31m:\u001b[0m invalid syntax\n"
     ]
    }
   ],
   "source": [
    "arr2. # (row, col)"
   ]
  },
  {
   "cell_type": "code",
   "execution_count": null,
   "id": "a4b3443d-8c56-4fe6-8fad-f082ea2626f4",
   "metadata": {},
   "outputs": [],
   "source": [
    "arr2.size"
   ]
  },
  {
   "cell_type": "code",
   "execution_count": null,
   "id": "b12117f6-0e74-4710-8dd8-8cc0f4229165",
   "metadata": {},
   "outputs": [],
   "source": [
    "arr2.dtype"
   ]
  },
  {
   "cell_type": "code",
   "execution_count": null,
   "id": "c6b9bda6-0c78-4810-9039-4007c2206856",
   "metadata": {},
   "outputs": [],
   "source": [
    "type(arr2)"
   ]
  },
  {
   "cell_type": "markdown",
   "id": "d0516187-026c-450d-b287-81b4dc2b3967",
   "metadata": {},
   "source": [
    "3D Array"
   ]
  },
  {
   "cell_type": "code",
   "execution_count": 14,
   "id": "10c3f9ce-5f11-4acd-a01a-df5c2fd4bf8b",
   "metadata": {},
   "outputs": [
    {
     "data": {
      "text/plain": [
       "array([[[1, 4, 5],\n",
       "        [6, 5, 4],\n",
       "        [6, 7, 4]],\n",
       "\n",
       "       [[3, 5, 4],\n",
       "        [6, 5, 4],\n",
       "        [5, 8, 7]],\n",
       "\n",
       "       [[1, 4, 5],\n",
       "        [6, 5, 4],\n",
       "        [6, 7, 4]]])"
      ]
     },
     "execution_count": 14,
     "metadata": {},
     "output_type": "execute_result"
    }
   ],
   "source": [
    "arr3 = np.array([[[1, 4, 5],[6, 5, 4], [6, 7, 4]], [[3, 5, 4],[6, 5, 4],[5, 8, 7]], [[1, 4, 5],[6, 5, 4], [6, 7, 4]]])\n",
    "arr3"
   ]
  },
  {
   "cell_type": "code",
   "execution_count": null,
   "id": "6db6ff2b-59c5-4e6f-b074-5107f3e33aca",
   "metadata": {},
   "outputs": [],
   "source": [
    "arr3.ndim"
   ]
  },
  {
   "cell_type": "code",
   "execution_count": null,
   "id": "f92f7460-d073-45fc-9d79-2e07873d739f",
   "metadata": {},
   "outputs": [],
   "source": [
    "arr3.shape"
   ]
  },
  {
   "cell_type": "code",
   "execution_count": null,
   "id": "55f3023e-7171-4fc9-bc6d-7fc7e0f62dd6",
   "metadata": {},
   "outputs": [],
   "source": [
    "arr3.size"
   ]
  },
  {
   "cell_type": "markdown",
   "id": "e009bcdd-0600-4fa9-a5bd-68debbbab003",
   "metadata": {},
   "source": [
    "Create random array"
   ]
  },
  {
   "cell_type": "code",
   "execution_count": null,
   "id": "39521f0f-d3ea-4ed6-bb6c-c87fcb1d100e",
   "metadata": {},
   "outputs": [],
   "source": [
    "randomArr = np.random.rand(3, 2, 3)\n",
    "randomArr"
   ]
  },
  {
   "cell_type": "code",
   "execution_count": null,
   "id": "702339c7-2b46-4e8e-b39a-7a44eaf45165",
   "metadata": {},
   "outputs": [],
   "source": [
    "randomArr.dtype"
   ]
  },
  {
   "cell_type": "code",
   "execution_count": 57,
   "id": "a73e77cb-4442-4da9-b82b-621dbb02c2b5",
   "metadata": {
    "scrolled": true
   },
   "outputs": [
    {
     "data": {
      "text/plain": [
       "array([[[0., 0., 0.],\n",
       "        [0., 0., 0.]],\n",
       "\n",
       "       [[0., 0., 0.],\n",
       "        [0., 0., 0.]],\n",
       "\n",
       "       [[0., 0., 0.],\n",
       "        [0., 0., 0.]]])"
      ]
     },
     "execution_count": 57,
     "metadata": {},
     "output_type": "execute_result"
    }
   ],
   "source": [
    "zeroes = np.zeros((3, 2, 3))\n",
    "zeroes"
   ]
  },
  {
   "cell_type": "code",
   "execution_count": null,
   "id": "f08dfb6f-a3c9-4c83-8d0b-39984bf17512",
   "metadata": {},
   "outputs": [],
   "source": [
    "full = np.full((3, 2, 3), 9)\n",
    "full"
   ]
  },
  {
   "cell_type": "code",
   "execution_count": null,
   "id": "2873b0c9-500c-463c-9e57-ceac9f9f57be",
   "metadata": {},
   "outputs": [],
   "source": [
    "ones = np.ones((3, 2, 3))\n",
    "ones"
   ]
  },
  {
   "cell_type": "code",
   "execution_count": null,
   "id": "49e97c08-4ce5-4a1c-bc10-76674e94d879",
   "metadata": {},
   "outputs": [],
   "source": [
    "arr3"
   ]
  },
  {
   "cell_type": "code",
   "execution_count": null,
   "id": "e88ff9b8-e8ae-4239-b864-2909a1778329",
   "metadata": {},
   "outputs": [],
   "source": [
    "arr3[0]"
   ]
  },
  {
   "cell_type": "code",
   "execution_count": null,
   "id": "4258dd8e-dfda-438c-b6fe-2d9002ffcf40",
   "metadata": {},
   "outputs": [],
   "source": [
    "arr3[0][0][1]"
   ]
  },
  {
   "cell_type": "code",
   "execution_count": null,
   "id": "61faee20-03c2-4d75-b0e2-42394976a678",
   "metadata": {},
   "outputs": [],
   "source": [
    "arr3[0:2]"
   ]
  },
  {
   "cell_type": "code",
   "execution_count": null,
   "id": "d97b0b20-9161-440e-b4a3-cb0f3f2dd773",
   "metadata": {},
   "outputs": [],
   "source": [
    "arr3[1][0][0]"
   ]
  },
  {
   "cell_type": "code",
   "execution_count": 15,
   "id": "e906908a-4985-4e51-a7f9-8923e1e2043a",
   "metadata": {},
   "outputs": [
    {
     "data": {
      "text/plain": [
       "array([[[1, 4, 5],\n",
       "        [6, 5, 4],\n",
       "        [6, 7, 4]],\n",
       "\n",
       "       [[3, 5, 4],\n",
       "        [6, 5, 4],\n",
       "        [5, 8, 7]],\n",
       "\n",
       "       [[1, 4, 5],\n",
       "        [6, 5, 4],\n",
       "        [6, 7, 4]]])"
      ]
     },
     "execution_count": 15,
     "metadata": {},
     "output_type": "execute_result"
    }
   ],
   "source": [
    "arr3"
   ]
  },
  {
   "cell_type": "code",
   "execution_count": 16,
   "id": "b7dedbf9-f9a3-41bb-8605-1408cb3d3ff2",
   "metadata": {},
   "outputs": [
    {
     "data": {
      "text/plain": [
       "array([[1, 4, 5],\n",
       "       [6, 5, 4],\n",
       "       [6, 7, 4]])"
      ]
     },
     "execution_count": 16,
     "metadata": {},
     "output_type": "execute_result"
    }
   ],
   "source": [
    "arr3[-1]"
   ]
  },
  {
   "cell_type": "code",
   "execution_count": 17,
   "id": "a16d5fe6-5dae-441f-afe1-30831eeb32fc",
   "metadata": {},
   "outputs": [],
   "source": [
    "a1 = np.random.rand(2, 3, 2)\n",
    "a2 = np.random.rand(2, 3, 2)"
   ]
  },
  {
   "cell_type": "code",
   "execution_count": 18,
   "id": "9bd4c5b9-cef4-4e25-ad23-59949f4296dd",
   "metadata": {},
   "outputs": [
    {
     "data": {
      "text/plain": [
       "array([[[0.4986336 , 0.84558645],\n",
       "        [0.65918092, 0.4090918 ],\n",
       "        [0.38748751, 0.9570063 ]],\n",
       "\n",
       "       [[0.28152433, 0.28945513],\n",
       "        [0.03040849, 0.16683473],\n",
       "        [0.68144752, 0.27728137]]])"
      ]
     },
     "execution_count": 18,
     "metadata": {},
     "output_type": "execute_result"
    }
   ],
   "source": [
    "a1"
   ]
  },
  {
   "cell_type": "code",
   "execution_count": 19,
   "id": "738ff31f-0304-44ce-96c8-551920fa6b50",
   "metadata": {},
   "outputs": [
    {
     "data": {
      "text/plain": [
       "array([[[0.80228863, 0.9445045 ],\n",
       "        [0.0446097 , 0.53495606],\n",
       "        [0.68597096, 0.27678323]],\n",
       "\n",
       "       [[0.70427887, 0.85084015],\n",
       "        [0.21218033, 0.21589425],\n",
       "        [0.08520824, 0.70387984]]])"
      ]
     },
     "execution_count": 19,
     "metadata": {},
     "output_type": "execute_result"
    }
   ],
   "source": [
    "a2"
   ]
  },
  {
   "cell_type": "code",
   "execution_count": 20,
   "id": "5cb33398-798d-4aa4-8559-b807c5d5484c",
   "metadata": {},
   "outputs": [
    {
     "data": {
      "text/plain": [
       "array([[[1.30092223, 1.79009094],\n",
       "        [0.70379062, 0.94404787],\n",
       "        [1.07345847, 1.23378953]],\n",
       "\n",
       "       [[0.9858032 , 1.14029528],\n",
       "        [0.24258882, 0.38272898],\n",
       "        [0.76665577, 0.9811612 ]]])"
      ]
     },
     "execution_count": 20,
     "metadata": {},
     "output_type": "execute_result"
    }
   ],
   "source": [
    "np.add(a1, a2)"
   ]
  },
  {
   "cell_type": "code",
   "execution_count": 21,
   "id": "7d3090da-6261-4d42-96f7-9867d5d6ecb6",
   "metadata": {},
   "outputs": [
    {
     "data": {
      "text/plain": [
       "array([[[-0.30365502, -0.09891805],\n",
       "        [ 0.61457121, -0.12586426],\n",
       "        [-0.29848345,  0.68022307]],\n",
       "\n",
       "       [[-0.42275454, -0.56138501],\n",
       "        [-0.18177184, -0.04905951],\n",
       "        [ 0.59623928, -0.42659847]]])"
      ]
     },
     "execution_count": 21,
     "metadata": {},
     "output_type": "execute_result"
    }
   ],
   "source": [
    "np.subtract(a1, a2)"
   ]
  },
  {
   "cell_type": "code",
   "execution_count": 22,
   "id": "04822b64-c7f7-4330-bfb1-985ce5745159",
   "metadata": {},
   "outputs": [
    {
     "data": {
      "text/plain": [
       "array([[[ 0.62151399,  0.8952699 ],\n",
       "        [14.776626  ,  0.76472038],\n",
       "        [ 0.56487451,  3.45760224]],\n",
       "\n",
       "       [[ 0.39973417,  0.3401992 ],\n",
       "        [ 0.14331436,  0.77276137],\n",
       "        [ 7.99743673,  0.39393281]]])"
      ]
     },
     "execution_count": 22,
     "metadata": {},
     "output_type": "execute_result"
    }
   ],
   "source": [
    "np.divide(a1, a2)"
   ]
  },
  {
   "cell_type": "code",
   "execution_count": 23,
   "id": "602e1ac9-6388-4f68-a508-df54688937cc",
   "metadata": {},
   "outputs": [
    {
     "data": {
      "text/plain": [
       "array([[[0.40004807, 0.7986602 ],\n",
       "        [0.02940587, 0.21884614],\n",
       "        [0.26580518, 0.26488329]],\n",
       "\n",
       "       [[0.19827164, 0.24628005],\n",
       "        [0.00645208, 0.03601866],\n",
       "        [0.05806495, 0.19517276]]])"
      ]
     },
     "execution_count": 23,
     "metadata": {},
     "output_type": "execute_result"
    }
   ],
   "source": [
    "np.multiply(a1, a2)"
   ]
  },
  {
   "cell_type": "markdown",
   "id": "b2bbcf0b-56c9-4c2e-961f-ee6db5bdc415",
   "metadata": {},
   "source": [
    "Stastical operations"
   ]
  },
  {
   "cell_type": "code",
   "execution_count": 29,
   "id": "c92e421b-3e56-4b9a-ab6c-632c7d092c3f",
   "metadata": {},
   "outputs": [],
   "source": [
    "sqrt = np.sqrt(25)\n",
    "abs1 = np.abs(-2)\n",
    "power = np.power(2,8)\n",
    "log = np.log(25)\n",
    "mins = np.min(a1)\n",
    "maxs = np.max(a2)"
   ]
  },
  {
   "cell_type": "code",
   "execution_count": 30,
   "id": "551a7a29-461d-45cc-9a75-9964bdaf7465",
   "metadata": {},
   "outputs": [
    {
     "data": {
      "text/plain": [
       "np.float64(5.0)"
      ]
     },
     "execution_count": 30,
     "metadata": {},
     "output_type": "execute_result"
    }
   ],
   "source": [
    "sqrt"
   ]
  },
  {
   "cell_type": "code",
   "execution_count": null,
   "id": "bad48e0e-d543-49de-8c03-eb41c6fb3167",
   "metadata": {},
   "outputs": [],
   "source": []
  },
  {
   "cell_type": "code",
   "execution_count": 34,
   "id": "fb30db40-b773-4df8-90b2-7b25c4c3a13e",
   "metadata": {},
   "outputs": [
    {
     "data": {
      "text/plain": [
       "np.int64(256)"
      ]
     },
     "execution_count": 34,
     "metadata": {},
     "output_type": "execute_result"
    }
   ],
   "source": [
    "power"
   ]
  },
  {
   "cell_type": "code",
   "execution_count": 35,
   "id": "c632050a-7d62-49d5-bdf0-fffa7cdcadb0",
   "metadata": {},
   "outputs": [
    {
     "data": {
      "text/plain": [
       "np.float64(3.2188758248682006)"
      ]
     },
     "execution_count": 35,
     "metadata": {},
     "output_type": "execute_result"
    }
   ],
   "source": [
    "log"
   ]
  },
  {
   "cell_type": "code",
   "execution_count": 36,
   "id": "084541ca-09e6-4ef3-8102-6d84d8b4f6f4",
   "metadata": {},
   "outputs": [
    {
     "data": {
      "text/plain": [
       "np.float64(0.030408487968980547)"
      ]
     },
     "execution_count": 36,
     "metadata": {},
     "output_type": "execute_result"
    }
   ],
   "source": [
    "mins"
   ]
  },
  {
   "cell_type": "code",
   "execution_count": 37,
   "id": "175c75df-f0e0-4804-90f2-484615dfe445",
   "metadata": {},
   "outputs": [
    {
     "data": {
      "text/plain": [
       "np.float64(0.9445044958543278)"
      ]
     },
     "execution_count": 37,
     "metadata": {},
     "output_type": "execute_result"
    }
   ],
   "source": [
    "maxs"
   ]
  },
  {
   "cell_type": "markdown",
   "id": "e02aff5a-5245-404d-a8ca-0cd9cb6f1421",
   "metadata": {},
   "source": [
    " Update"
   ]
  },
  {
   "cell_type": "code",
   "execution_count": 38,
   "id": "d64f4241-eb6f-4686-908c-5f5e21ab00d5",
   "metadata": {},
   "outputs": [
    {
     "data": {
      "text/plain": [
       "array([[[1, 4, 5],\n",
       "        [6, 5, 4],\n",
       "        [6, 7, 4]],\n",
       "\n",
       "       [[3, 5, 4],\n",
       "        [6, 5, 4],\n",
       "        [5, 8, 7]],\n",
       "\n",
       "       [[1, 4, 5],\n",
       "        [6, 5, 4],\n",
       "        [6, 7, 4]]])"
      ]
     },
     "execution_count": 38,
     "metadata": {},
     "output_type": "execute_result"
    }
   ],
   "source": [
    "arr3"
   ]
  },
  {
   "cell_type": "code",
   "execution_count": 39,
   "id": "0a59ee42-2681-45f4-a3ba-184d6386cd49",
   "metadata": {},
   "outputs": [],
   "source": [
    "arr3[0, 0, 2] = 500"
   ]
  },
  {
   "cell_type": "code",
   "execution_count": 40,
   "id": "3e07a22a-9a30-4684-96aa-c5afe6967431",
   "metadata": {},
   "outputs": [
    {
     "data": {
      "text/plain": [
       "array([[[  1,   4, 500],\n",
       "        [  6,   5,   4],\n",
       "        [  6,   7,   4]],\n",
       "\n",
       "       [[  3,   5,   4],\n",
       "        [  6,   5,   4],\n",
       "        [  5,   8,   7]],\n",
       "\n",
       "       [[  1,   4,   5],\n",
       "        [  6,   5,   4],\n",
       "        [  6,   7,   4]]])"
      ]
     },
     "execution_count": 40,
     "metadata": {},
     "output_type": "execute_result"
    }
   ],
   "source": [
    "arr3"
   ]
  },
  {
   "cell_type": "code",
   "execution_count": 42,
   "id": "01ee1aeb-b238-4d76-8a9f-e31eafc415e0",
   "metadata": {},
   "outputs": [],
   "source": [
    "arr3.sort()"
   ]
  },
  {
   "cell_type": "code",
   "execution_count": 43,
   "id": "0d83281e-ff79-42ce-b83f-ec2cf5998a85",
   "metadata": {},
   "outputs": [
    {
     "data": {
      "text/plain": [
       "array([[[  1,   4, 500],\n",
       "        [  4,   5,   6],\n",
       "        [  4,   6,   7]],\n",
       "\n",
       "       [[  3,   4,   5],\n",
       "        [  4,   5,   6],\n",
       "        [  5,   7,   8]],\n",
       "\n",
       "       [[  1,   4,   5],\n",
       "        [  4,   5,   6],\n",
       "        [  4,   6,   7]]])"
      ]
     },
     "execution_count": 43,
     "metadata": {},
     "output_type": "execute_result"
    }
   ],
   "source": [
    "arr3"
   ]
  },
  {
   "cell_type": "markdown",
   "id": "271886d0-84dd-4c9b-914e-fedc792391f7",
   "metadata": {},
   "source": [
    "# Reshape"
   ]
  },
  {
   "cell_type": "code",
   "execution_count": 53,
   "id": "b7a504fa-db49-42aa-bcc0-62b207ab0778",
   "metadata": {},
   "outputs": [
    {
     "data": {
      "text/plain": [
       "(3, 3, 3)"
      ]
     },
     "execution_count": 53,
     "metadata": {},
     "output_type": "execute_result"
    }
   ],
   "source": [
    "arr3.shape"
   ]
  },
  {
   "cell_type": "code",
   "execution_count": 54,
   "id": "8ad7d3e5-b99d-459a-bbca-6a38c5a10683",
   "metadata": {},
   "outputs": [
    {
     "data": {
      "text/plain": [
       "array([[[  1,   4, 500],\n",
       "        [  4,   5,   6],\n",
       "        [  4,   6,   7]],\n",
       "\n",
       "       [[  3,   4,   5],\n",
       "        [  4,   5,   6],\n",
       "        [  5,   7,   8]],\n",
       "\n",
       "       [[  1,   4,   5],\n",
       "        [  4,   5,   6],\n",
       "        [  4,   6,   7]]])"
      ]
     },
     "execution_count": 54,
     "metadata": {},
     "output_type": "execute_result"
    }
   ],
   "source": [
    "arr3_reshape = arr3.reshape(3, 3, -1)\n",
    "arr3_reshape"
   ]
  },
  {
   "cell_type": "markdown",
   "id": "6b41c92b-5ea2-4a19-b329-442ceeace1d5",
   "metadata": {},
   "source": [
    "#### Appending & Inserting"
   ]
  },
  {
   "cell_type": "markdown",
   "id": "5b1faad6-f107-42c0-b58e-5c9f2efb7346",
   "metadata": {},
   "source": [
    "Appending"
   ]
  },
  {
   "cell_type": "markdown",
   "id": "e63997ad-f0d3-48a7-b949-21e1bf9659f3",
   "metadata": {},
   "source": [
    "zeroes"
   ]
  },
  {
   "cell_type": "code",
   "execution_count": 61,
   "id": "0f06be59-8005-4f63-b45f-256010f83bb5",
   "metadata": {},
   "outputs": [
    {
     "data": {
      "text/plain": [
       "array([[[1., 1., 1.],\n",
       "        [1., 1., 1.]],\n",
       "\n",
       "       [[1., 1., 1.],\n",
       "        [1., 1., 1.]],\n",
       "\n",
       "       [[1., 1., 1.],\n",
       "        [1., 1., 1.]]])"
      ]
     },
     "execution_count": 61,
     "metadata": {},
     "output_type": "execute_result"
    }
   ],
   "source": [
    "new_array = np.ones((3, 2, 3))\n",
    "new_array"
   ]
  },
  {
   "cell_type": "code",
   "execution_count": 62,
   "id": "11a4b792-de0a-46d0-a767-160cfcee8f87",
   "metadata": {},
   "outputs": [],
   "source": [
    "appd = np.append(zeroes, new_array, axis =0)"
   ]
  },
  {
   "cell_type": "code",
   "execution_count": 63,
   "id": "43b2989c-9fbe-45db-a8be-ed3295c0e02a",
   "metadata": {},
   "outputs": [
    {
     "data": {
      "text/plain": [
       "array([[[0., 0., 0.],\n",
       "        [0., 0., 0.]],\n",
       "\n",
       "       [[0., 0., 0.],\n",
       "        [0., 0., 0.]],\n",
       "\n",
       "       [[0., 0., 0.],\n",
       "        [0., 0., 0.]],\n",
       "\n",
       "       [[1., 1., 1.],\n",
       "        [1., 1., 1.]],\n",
       "\n",
       "       [[1., 1., 1.],\n",
       "        [1., 1., 1.]],\n",
       "\n",
       "       [[1., 1., 1.],\n",
       "        [1., 1., 1.]]])"
      ]
     },
     "execution_count": 63,
     "metadata": {},
     "output_type": "execute_result"
    }
   ],
   "source": [
    "appd"
   ]
  },
  {
   "cell_type": "markdown",
   "id": "c8f24284-45a9-4b4f-9685-14c6685c14c3",
   "metadata": {},
   "source": [
    "# Inseting"
   ]
  },
  {
   "cell_type": "code",
   "execution_count": 66,
   "id": "fe1f2670-456b-4a17-bb05-fed4cd59843e",
   "metadata": {},
   "outputs": [
    {
     "data": {
      "text/plain": [
       "array([[[0., 0., 0.],\n",
       "        [0., 0., 0.]],\n",
       "\n",
       "       [[1., 1., 1.],\n",
       "        [1., 1., 1.]],\n",
       "\n",
       "       [[1., 1., 1.],\n",
       "        [1., 1., 1.]],\n",
       "\n",
       "       [[1., 1., 1.],\n",
       "        [1., 1., 1.]],\n",
       "\n",
       "       [[0., 0., 0.],\n",
       "        [0., 0., 0.]],\n",
       "\n",
       "       [[0., 0., 0.],\n",
       "        [0., 0., 0.]]])"
      ]
     },
     "execution_count": 66,
     "metadata": {},
     "output_type": "execute_result"
    }
   ],
   "source": [
    "inserted_array = np.insert(zeroes, 1, new_array, axis =0)\n",
    "inserted_array"
   ]
  },
  {
   "cell_type": "markdown",
   "id": "990afbf2-3eb7-4d56-84f8-10c90599a6b7",
   "metadata": {},
   "source": [
    "Delete"
   ]
  },
  {
   "cell_type": "code",
   "execution_count": 68,
   "id": "1286073c-4b5f-44e3-bf2d-37bb9a0c0f5b",
   "metadata": {},
   "outputs": [
    {
     "data": {
      "text/plain": [
       "array([[[0.44937582, 0.32800073, 0.84422308],\n",
       "        [0.10966543, 0.33748166, 0.8138982 ]],\n",
       "\n",
       "       [[0.48845293, 0.13155196, 0.814825  ],\n",
       "        [0.41474243, 0.27122446, 0.31698244]],\n",
       "\n",
       "       [[0.54639065, 0.25632369, 0.0973381 ],\n",
       "        [0.32166451, 0.67976042, 0.18538439]]])"
      ]
     },
     "execution_count": 68,
     "metadata": {},
     "output_type": "execute_result"
    }
   ],
   "source": [
    "arr4 = np.random.rand(3, 2, 3)\n",
    "arr4"
   ]
  },
  {
   "cell_type": "code",
   "execution_count": 76,
   "id": "3e701088-476d-4fb1-a629-a49c89423461",
   "metadata": {},
   "outputs": [
    {
     "data": {
      "text/plain": [
       "array([[[0.10966543, 0.33748166, 0.8138982 ]],\n",
       "\n",
       "       [[0.41474243, 0.27122446, 0.31698244]],\n",
       "\n",
       "       [[0.32166451, 0.67976042, 0.18538439]]])"
      ]
     },
     "execution_count": 76,
     "metadata": {},
     "output_type": "execute_result"
    }
   ],
   "source": [
    "arr5 = np.delete(arr4, 0, axis=1)\n",
    "arr5"
   ]
  },
  {
   "cell_type": "code",
   "execution_count": 77,
   "id": "02379848-2594-4697-b361-a4ed50792eed",
   "metadata": {},
   "outputs": [],
   "source": [
    "np.save(\"new_array\", arr5)"
   ]
  },
  {
   "cell_type": "code",
   "execution_count": 80,
   "id": "8ab85d0e-dc68-4ac6-b0ae-d2c4bbee61d6",
   "metadata": {},
   "outputs": [
    {
     "data": {
      "text/plain": [
       "array([[[0.10966543, 0.33748166, 0.8138982 ]],\n",
       "\n",
       "       [[0.41474243, 0.27122446, 0.31698244]],\n",
       "\n",
       "       [[0.32166451, 0.67976042, 0.18538439]]])"
      ]
     },
     "execution_count": 80,
     "metadata": {},
     "output_type": "execute_result"
    }
   ],
   "source": [
    "arr6 = np.load(\"new_array.npy\")\n",
    "arr6"
   ]
  },
  {
   "cell_type": "code",
   "execution_count": null,
   "id": "8bef6dcd-a147-41e4-9de6-fc50239c6652",
   "metadata": {},
   "outputs": [],
   "source": []
  },
  {
   "cell_type": "code",
   "execution_count": null,
   "id": "28c348ff-25a0-4965-a5f3-f04c0869d9d9",
   "metadata": {},
   "outputs": [],
   "source": []
  },
  {
   "cell_type": "code",
   "execution_count": null,
   "id": "8d8b1ceb-f4b6-458f-b0a5-f90444c11358",
   "metadata": {},
   "outputs": [],
   "source": []
  }
 ],
 "metadata": {
  "kernelspec": {
   "display_name": "Python 3 (ipykernel)",
   "language": "python",
   "name": "python3"
  },
  "language_info": {
   "codemirror_mode": {
    "name": "ipython",
    "version": 3
   },
   "file_extension": ".py",
   "mimetype": "text/x-python",
   "name": "python",
   "nbconvert_exporter": "python",
   "pygments_lexer": "ipython3",
   "version": "3.13.2"
  }
 },
 "nbformat": 4,
 "nbformat_minor": 5
}

{
 "cells": [
  {
   "cell_type": "code",
   "execution_count": null,
   "id": "c0d58940-485e-4ddb-8695-dd1d55d7f1c3",
   "metadata": {},
   "outputs": [],
   "source": []
  }
 ],
 "metadata": {
  "kernelspec": {
   "display_name": "",
   "name": ""
  },
  "language_info": {
   "name": ""
  }
 },
 "nbformat": 4,
 "nbformat_minor": 5
}
